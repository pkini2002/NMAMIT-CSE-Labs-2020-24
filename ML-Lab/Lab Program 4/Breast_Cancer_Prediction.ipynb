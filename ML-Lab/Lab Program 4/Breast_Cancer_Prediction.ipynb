{
  "nbformat": 4,
  "nbformat_minor": 0,
  "metadata": {
    "colab": {
      "provenance": []
    },
    "kernelspec": {
      "name": "python3",
      "display_name": "Python 3"
    },
    "language_info": {
      "name": "python"
    }
  },
  "cells": [
    {
      "cell_type": "code",
      "source": [
        "import pandas as pd\n",
        "import matplotlib.pyplot as plt\n",
        "import seaborn as sns\n",
        "import numpy as np\n",
        "sns.set_theme(color_codes=True)"
      ],
      "metadata": {
        "id": "HNOfCCf9o4LD"
      },
      "execution_count": null,
      "outputs": []
    },
    {
      "cell_type": "code",
      "source": [
        "df = pd.read_csv('dataR2.csv')\n",
        "df"
      ],
      "metadata": {
        "colab": {
          "base_uri": "https://localhost:8080/",
          "height": 424
        },
        "id": "IZkyr7q5pd4p",
        "outputId": "edb75fd5-250e-48a1-92cb-d2fa644477bc"
      },
      "execution_count": null,
      "outputs": [
        {
          "output_type": "execute_result",
          "data": {
            "text/plain": [
              "     Age        BMI  Glucose  Insulin      HOMA   Leptin  Adiponectin  \\\n",
              "0     48  23.500000       70    2.707  0.467409   8.8071     9.702400   \n",
              "1     83  20.690495       92    3.115  0.706897   8.8438     5.429285   \n",
              "2     82  23.124670       91    4.498  1.009651  17.9393    22.432040   \n",
              "3     68  21.367521       77    3.226  0.612725   9.8827     7.169560   \n",
              "4     86  21.111111       92    3.549  0.805386   6.6994     4.819240   \n",
              "..   ...        ...      ...      ...       ...      ...          ...   \n",
              "111   45  26.850000       92    3.330  0.755688  54.6800    12.100000   \n",
              "112   62  26.840000      100    4.530  1.117400  12.4500    21.420000   \n",
              "113   65  32.050000       97    5.730  1.370998  61.4800    22.540000   \n",
              "114   72  25.590000       82    2.820  0.570392  24.9600    33.750000   \n",
              "115   86  27.180000      138   19.910  6.777364  90.2800    14.110000   \n",
              "\n",
              "     Resistin    MCP.1  Classification  \n",
              "0     7.99585  417.114               1  \n",
              "1     4.06405  468.786               1  \n",
              "2     9.27715  554.697               1  \n",
              "3    12.76600  928.220               1  \n",
              "4    10.57635  773.920               1  \n",
              "..        ...      ...             ...  \n",
              "111  10.96000  268.230               2  \n",
              "112   7.32000  330.160               2  \n",
              "113  10.33000  314.050               2  \n",
              "114   3.27000  392.460               2  \n",
              "115   4.35000   90.090               2  \n",
              "\n",
              "[116 rows x 10 columns]"
            ],
            "text/html": [
              "\n",
              "  <div id=\"df-7bfbe1ef-611f-40ca-b064-d7b74aacb919\">\n",
              "    <div class=\"colab-df-container\">\n",
              "      <div>\n",
              "<style scoped>\n",
              "    .dataframe tbody tr th:only-of-type {\n",
              "        vertical-align: middle;\n",
              "    }\n",
              "\n",
              "    .dataframe tbody tr th {\n",
              "        vertical-align: top;\n",
              "    }\n",
              "\n",
              "    .dataframe thead th {\n",
              "        text-align: right;\n",
              "    }\n",
              "</style>\n",
              "<table border=\"1\" class=\"dataframe\">\n",
              "  <thead>\n",
              "    <tr style=\"text-align: right;\">\n",
              "      <th></th>\n",
              "      <th>Age</th>\n",
              "      <th>BMI</th>\n",
              "      <th>Glucose</th>\n",
              "      <th>Insulin</th>\n",
              "      <th>HOMA</th>\n",
              "      <th>Leptin</th>\n",
              "      <th>Adiponectin</th>\n",
              "      <th>Resistin</th>\n",
              "      <th>MCP.1</th>\n",
              "      <th>Classification</th>\n",
              "    </tr>\n",
              "  </thead>\n",
              "  <tbody>\n",
              "    <tr>\n",
              "      <th>0</th>\n",
              "      <td>48</td>\n",
              "      <td>23.500000</td>\n",
              "      <td>70</td>\n",
              "      <td>2.707</td>\n",
              "      <td>0.467409</td>\n",
              "      <td>8.8071</td>\n",
              "      <td>9.702400</td>\n",
              "      <td>7.99585</td>\n",
              "      <td>417.114</td>\n",
              "      <td>1</td>\n",
              "    </tr>\n",
              "    <tr>\n",
              "      <th>1</th>\n",
              "      <td>83</td>\n",
              "      <td>20.690495</td>\n",
              "      <td>92</td>\n",
              "      <td>3.115</td>\n",
              "      <td>0.706897</td>\n",
              "      <td>8.8438</td>\n",
              "      <td>5.429285</td>\n",
              "      <td>4.06405</td>\n",
              "      <td>468.786</td>\n",
              "      <td>1</td>\n",
              "    </tr>\n",
              "    <tr>\n",
              "      <th>2</th>\n",
              "      <td>82</td>\n",
              "      <td>23.124670</td>\n",
              "      <td>91</td>\n",
              "      <td>4.498</td>\n",
              "      <td>1.009651</td>\n",
              "      <td>17.9393</td>\n",
              "      <td>22.432040</td>\n",
              "      <td>9.27715</td>\n",
              "      <td>554.697</td>\n",
              "      <td>1</td>\n",
              "    </tr>\n",
              "    <tr>\n",
              "      <th>3</th>\n",
              "      <td>68</td>\n",
              "      <td>21.367521</td>\n",
              "      <td>77</td>\n",
              "      <td>3.226</td>\n",
              "      <td>0.612725</td>\n",
              "      <td>9.8827</td>\n",
              "      <td>7.169560</td>\n",
              "      <td>12.76600</td>\n",
              "      <td>928.220</td>\n",
              "      <td>1</td>\n",
              "    </tr>\n",
              "    <tr>\n",
              "      <th>4</th>\n",
              "      <td>86</td>\n",
              "      <td>21.111111</td>\n",
              "      <td>92</td>\n",
              "      <td>3.549</td>\n",
              "      <td>0.805386</td>\n",
              "      <td>6.6994</td>\n",
              "      <td>4.819240</td>\n",
              "      <td>10.57635</td>\n",
              "      <td>773.920</td>\n",
              "      <td>1</td>\n",
              "    </tr>\n",
              "    <tr>\n",
              "      <th>...</th>\n",
              "      <td>...</td>\n",
              "      <td>...</td>\n",
              "      <td>...</td>\n",
              "      <td>...</td>\n",
              "      <td>...</td>\n",
              "      <td>...</td>\n",
              "      <td>...</td>\n",
              "      <td>...</td>\n",
              "      <td>...</td>\n",
              "      <td>...</td>\n",
              "    </tr>\n",
              "    <tr>\n",
              "      <th>111</th>\n",
              "      <td>45</td>\n",
              "      <td>26.850000</td>\n",
              "      <td>92</td>\n",
              "      <td>3.330</td>\n",
              "      <td>0.755688</td>\n",
              "      <td>54.6800</td>\n",
              "      <td>12.100000</td>\n",
              "      <td>10.96000</td>\n",
              "      <td>268.230</td>\n",
              "      <td>2</td>\n",
              "    </tr>\n",
              "    <tr>\n",
              "      <th>112</th>\n",
              "      <td>62</td>\n",
              "      <td>26.840000</td>\n",
              "      <td>100</td>\n",
              "      <td>4.530</td>\n",
              "      <td>1.117400</td>\n",
              "      <td>12.4500</td>\n",
              "      <td>21.420000</td>\n",
              "      <td>7.32000</td>\n",
              "      <td>330.160</td>\n",
              "      <td>2</td>\n",
              "    </tr>\n",
              "    <tr>\n",
              "      <th>113</th>\n",
              "      <td>65</td>\n",
              "      <td>32.050000</td>\n",
              "      <td>97</td>\n",
              "      <td>5.730</td>\n",
              "      <td>1.370998</td>\n",
              "      <td>61.4800</td>\n",
              "      <td>22.540000</td>\n",
              "      <td>10.33000</td>\n",
              "      <td>314.050</td>\n",
              "      <td>2</td>\n",
              "    </tr>\n",
              "    <tr>\n",
              "      <th>114</th>\n",
              "      <td>72</td>\n",
              "      <td>25.590000</td>\n",
              "      <td>82</td>\n",
              "      <td>2.820</td>\n",
              "      <td>0.570392</td>\n",
              "      <td>24.9600</td>\n",
              "      <td>33.750000</td>\n",
              "      <td>3.27000</td>\n",
              "      <td>392.460</td>\n",
              "      <td>2</td>\n",
              "    </tr>\n",
              "    <tr>\n",
              "      <th>115</th>\n",
              "      <td>86</td>\n",
              "      <td>27.180000</td>\n",
              "      <td>138</td>\n",
              "      <td>19.910</td>\n",
              "      <td>6.777364</td>\n",
              "      <td>90.2800</td>\n",
              "      <td>14.110000</td>\n",
              "      <td>4.35000</td>\n",
              "      <td>90.090</td>\n",
              "      <td>2</td>\n",
              "    </tr>\n",
              "  </tbody>\n",
              "</table>\n",
              "<p>116 rows × 10 columns</p>\n",
              "</div>\n",
              "      <button class=\"colab-df-convert\" onclick=\"convertToInteractive('df-7bfbe1ef-611f-40ca-b064-d7b74aacb919')\"\n",
              "              title=\"Convert this dataframe to an interactive table.\"\n",
              "              style=\"display:none;\">\n",
              "        \n",
              "  <svg xmlns=\"http://www.w3.org/2000/svg\" height=\"24px\"viewBox=\"0 0 24 24\"\n",
              "       width=\"24px\">\n",
              "    <path d=\"M0 0h24v24H0V0z\" fill=\"none\"/>\n",
              "    <path d=\"M18.56 5.44l.94 2.06.94-2.06 2.06-.94-2.06-.94-.94-2.06-.94 2.06-2.06.94zm-11 1L8.5 8.5l.94-2.06 2.06-.94-2.06-.94L8.5 2.5l-.94 2.06-2.06.94zm10 10l.94 2.06.94-2.06 2.06-.94-2.06-.94-.94-2.06-.94 2.06-2.06.94z\"/><path d=\"M17.41 7.96l-1.37-1.37c-.4-.4-.92-.59-1.43-.59-.52 0-1.04.2-1.43.59L10.3 9.45l-7.72 7.72c-.78.78-.78 2.05 0 2.83L4 21.41c.39.39.9.59 1.41.59.51 0 1.02-.2 1.41-.59l7.78-7.78 2.81-2.81c.8-.78.8-2.07 0-2.86zM5.41 20L4 18.59l7.72-7.72 1.47 1.35L5.41 20z\"/>\n",
              "  </svg>\n",
              "      </button>\n",
              "      \n",
              "  <style>\n",
              "    .colab-df-container {\n",
              "      display:flex;\n",
              "      flex-wrap:wrap;\n",
              "      gap: 12px;\n",
              "    }\n",
              "\n",
              "    .colab-df-convert {\n",
              "      background-color: #E8F0FE;\n",
              "      border: none;\n",
              "      border-radius: 50%;\n",
              "      cursor: pointer;\n",
              "      display: none;\n",
              "      fill: #1967D2;\n",
              "      height: 32px;\n",
              "      padding: 0 0 0 0;\n",
              "      width: 32px;\n",
              "    }\n",
              "\n",
              "    .colab-df-convert:hover {\n",
              "      background-color: #E2EBFA;\n",
              "      box-shadow: 0px 1px 2px rgba(60, 64, 67, 0.3), 0px 1px 3px 1px rgba(60, 64, 67, 0.15);\n",
              "      fill: #174EA6;\n",
              "    }\n",
              "\n",
              "    [theme=dark] .colab-df-convert {\n",
              "      background-color: #3B4455;\n",
              "      fill: #D2E3FC;\n",
              "    }\n",
              "\n",
              "    [theme=dark] .colab-df-convert:hover {\n",
              "      background-color: #434B5C;\n",
              "      box-shadow: 0px 1px 3px 1px rgba(0, 0, 0, 0.15);\n",
              "      filter: drop-shadow(0px 1px 2px rgba(0, 0, 0, 0.3));\n",
              "      fill: #FFFFFF;\n",
              "    }\n",
              "  </style>\n",
              "\n",
              "      <script>\n",
              "        const buttonEl =\n",
              "          document.querySelector('#df-7bfbe1ef-611f-40ca-b064-d7b74aacb919 button.colab-df-convert');\n",
              "        buttonEl.style.display =\n",
              "          google.colab.kernel.accessAllowed ? 'block' : 'none';\n",
              "\n",
              "        async function convertToInteractive(key) {\n",
              "          const element = document.querySelector('#df-7bfbe1ef-611f-40ca-b064-d7b74aacb919');\n",
              "          const dataTable =\n",
              "            await google.colab.kernel.invokeFunction('convertToInteractive',\n",
              "                                                     [key], {});\n",
              "          if (!dataTable) return;\n",
              "\n",
              "          const docLinkHtml = 'Like what you see? Visit the ' +\n",
              "            '<a target=\"_blank\" href=https://colab.research.google.com/notebooks/data_table.ipynb>data table notebook</a>'\n",
              "            + ' to learn more about interactive tables.';\n",
              "          element.innerHTML = '';\n",
              "          dataTable['output_type'] = 'display_data';\n",
              "          await google.colab.output.renderOutput(dataTable, element);\n",
              "          const docLink = document.createElement('div');\n",
              "          docLink.innerHTML = docLinkHtml;\n",
              "          element.appendChild(docLink);\n",
              "        }\n",
              "      </script>\n",
              "    </div>\n",
              "  </div>\n",
              "  "
            ]
          },
          "metadata": {},
          "execution_count": 46
        }
      ]
    },
    {
      "cell_type": "markdown",
      "source": [
        "#Checking if there is null value"
      ],
      "metadata": {
        "id": "W9AiszgPT9c5"
      }
    },
    {
      "cell_type": "code",
      "source": [
        "df.isnull().sum()"
      ],
      "metadata": {
        "colab": {
          "base_uri": "https://localhost:8080/"
        },
        "id": "g8ysfpZ4qMIx",
        "outputId": "b7be7163-51e7-45b5-c463-2fa7445213cd"
      },
      "execution_count": null,
      "outputs": [
        {
          "output_type": "execute_result",
          "data": {
            "text/plain": [
              "Age               0\n",
              "BMI               0\n",
              "Glucose           0\n",
              "Insulin           0\n",
              "HOMA              0\n",
              "Leptin            0\n",
              "Adiponectin       0\n",
              "Resistin          0\n",
              "MCP.1             0\n",
              "Classification    0\n",
              "dtype: int64"
            ]
          },
          "metadata": {},
          "execution_count": 47
        }
      ]
    },
    {
      "cell_type": "code",
      "source": [
        "df_copy = df.copy(deep = True) \n",
        "df_copy[['Age','BMI','Glucose','Insulin','HOMA','Leptin','Adiponectin','Resistin','MCP.1']] = df_copy[['Age','BMI','Glucose','Insulin','HOMA','Leptin','Adiponectin','Resistin','MCP.1']].replace(0,np.NaN)\n",
        "\n",
        "# Showing the Count of NANs\n",
        "print(df_copy.isnull().sum())"
      ],
      "metadata": {
        "colab": {
          "base_uri": "https://localhost:8080/"
        },
        "id": "klsGvO41qSc1",
        "outputId": "5e0f0079-1bf8-42e9-a95c-683e67213787"
      },
      "execution_count": null,
      "outputs": [
        {
          "output_type": "stream",
          "name": "stdout",
          "text": [
            "Age               0\n",
            "BMI               0\n",
            "Glucose           0\n",
            "Insulin           0\n",
            "HOMA              0\n",
            "Leptin            0\n",
            "Adiponectin       0\n",
            "Resistin          0\n",
            "MCP.1             0\n",
            "Classification    0\n",
            "dtype: int64\n"
          ]
        }
      ]
    },
    {
      "cell_type": "markdown",
      "source": [
        "#Checking if the class value is balanced or not"
      ],
      "metadata": {
        "id": "uKw21-ByT16X"
      }
    },
    {
      "cell_type": "code",
      "source": [
        "sns.countplot(df['Classification'])\n",
        "print(df.Classification.value_counts())"
      ],
      "metadata": {
        "colab": {
          "base_uri": "https://localhost:8080/",
          "height": 392
        },
        "id": "83oe1kE83XT-",
        "outputId": "f9230c97-6275-4f0f-89d3-cd182a13686b"
      },
      "execution_count": null,
      "outputs": [
        {
          "output_type": "stream",
          "name": "stdout",
          "text": [
            "2    64\n",
            "1    52\n",
            "Name: Classification, dtype: int64\n"
          ]
        },
        {
          "output_type": "stream",
          "name": "stderr",
          "text": [
            "/usr/local/lib/python3.8/dist-packages/seaborn/_decorators.py:36: FutureWarning: Pass the following variable as a keyword arg: x. From version 0.12, the only valid positional argument will be `data`, and passing other arguments without an explicit keyword will result in an error or misinterpretation.\n",
            "  warnings.warn(\n"
          ]
        },
        {
          "output_type": "display_data",
          "data": {
            "text/plain": [
              "<Figure size 432x288 with 1 Axes>"
            ],
            "image/png": "[encoded data removed]"
          },
          "metadata": {}
        }
      ]
    },
    {
      "cell_type": "markdown",
      "source": [
        "#Outlier Detection using Boxplot and Outlier Cleansing using Z-Score"
      ],
      "metadata": {
        "id": "NvNFGnKUTejw"
      }
    },
    {
      "cell_type": "code",
      "source": [
        "sns.boxplot(x=df[\"Age\"])"
      ],
      "metadata": {
        "colab": {
          "base_uri": "https://localhost:8080/",
          "height": 302
        },
        "id": "5a-wU8rL3qEy",
        "outputId": "d0a20830-4071-46ce-f859-5bbbfee1069f"
      },
      "execution_count": null,
      "outputs": [
        {
          "output_type": "execute_result",
          "data": {
            "text/plain": [
              "<matplotlib.axes._subplots.AxesSubplot at 0x7fb5ae25feb0>"
            ]
          },
          "metadata": {},
          "execution_count": 50
        },
        {
          "output_type": "display_data",
          "data": {
            "text/plain": [
              "<Figure size 432x288 with 1 Axes>"
            ],
            "image/png": "[encoded data removed]"
          },
          "metadata": {}
        }
      ]
    },
    {
      "cell_type": "code",
      "source": [
        "sns.boxplot(x=df[\"BMI\"])"
      ],
      "metadata": {
        "colab": {
          "base_uri": "https://localhost:8080/",
          "height": 302
        },
        "id": "ylQ3dSVs32_I",
        "outputId": "08435dcf-f7b0-43b0-b8d5-e070fb075b47"
      },
      "execution_count": null,
      "outputs": [
        {
          "output_type": "execute_result",
          "data": {
            "text/plain": [
              "<matplotlib.axes._subplots.AxesSubplot at 0x7fb5ae204880>"
            ]
          },
          "metadata": {},
          "execution_count": 51
        },
        {
          "output_type": "display_data",
          "data": {
            "text/plain": [
              "<Figure size 432x288 with 1 Axes>"
            ],
            "image/png": "[encoded data removed]"
          },
          "metadata": {}
        }
      ]
    },
    {
      "cell_type": "code",
      "source": [
        "sns.boxplot(x=df[\"Glucose\"])"
      ],
      "metadata": {
        "colab": {
          "base_uri": "https://localhost:8080/",
          "height": 302
        },
        "id": "cvj9EA8235F7",
        "outputId": "0d0a240f-a9d6-451d-be39-73fc2d5b601d"
      },
      "execution_count": null,
      "outputs": [
        {
          "output_type": "execute_result",
          "data": {
            "text/plain": [
              "<matplotlib.axes._subplots.AxesSubplot at 0x7fb5ae19f610>"
            ]
          },
          "metadata": {},
          "execution_count": 52
        },
        {
          "output_type": "display_data",
          "data": {
            "text/plain": [
              "<Figure size 432x288 with 1 Axes>"
            ],
            "image/png": "[encoded data removed]"
          },
          "metadata": {}
        }
      ]
    },
    {
      "cell_type": "code",
      "source": [
        "sns.boxplot(x=df[\"Insulin\"])"
      ],
      "metadata": {
        "colab": {
          "base_uri": "https://localhost:8080/",
          "height": 302
        },
        "id": "L8MJaYLt3965",
        "outputId": "f54f2b96-abd0-4796-8d3f-e20195e50939"
      },
      "execution_count": null,
      "outputs": [
        {
          "output_type": "execute_result",
          "data": {
            "text/plain": [
              "<matplotlib.axes._subplots.AxesSubplot at 0x7fb5af6aa370>"
            ]
          },
          "metadata": {},
          "execution_count": 53
        },
        {
          "output_type": "display_data",
          "data": {
            "text/plain": [
              "<Figure size 432x288 with 1 Axes>"
            ],
            "image/png": "[encoded data removed]"
          },
          "metadata": {}
        }
      ]
    },
    {
      "cell_type": "code",
      "source": [
        "sns.boxplot(x=df[\"HOMA\"])"
      ],
      "metadata": {
        "colab": {
          "base_uri": "https://localhost:8080/",
          "height": 302
        },
        "id": "Nsk5rQOp4Bee",
        "outputId": "f55eac06-8656-40d2-b532-55eb7efe0b7f"
      },
      "execution_count": null,
      "outputs": [
        {
          "output_type": "execute_result",
          "data": {
            "text/plain": [
              "<matplotlib.axes._subplots.AxesSubplot at 0x7fb5ae0d2460>"
            ]
          },
          "metadata": {},
          "execution_count": 54
        },
        {
          "output_type": "display_data",
          "data": {
            "text/plain": [
              "<Figure size 432x288 with 1 Axes>"
            ],
            "image/png": "[encoded data removed]"
          },
          "metadata": {}
        }
      ]
    },
    {
      "cell_type": "code",
      "source": [
        "sns.boxplot(x=df[\"Leptin\"])"
      ],
      "metadata": {
        "colab": {
          "base_uri": "https://localhost:8080/",
          "height": 302
        },
        "id": "w-d57p6r4DO-",
        "outputId": "1d0ecf9c-04f0-4f22-a431-85d0512afd11"
      },
      "execution_count": null,
      "outputs": [
        {
          "output_type": "execute_result",
          "data": {
            "text/plain": [
              "<matplotlib.axes._subplots.AxesSubplot at 0x7fb5ae09d4c0>"
            ]
          },
          "metadata": {},
          "execution_count": 55
        },
        {
          "output_type": "display_data",
          "data": {
            "text/plain": [
              "<Figure size 432x288 with 1 Axes>"
            ],
            "image/png": "[encoded data removed]"
          },
          "metadata": {}
        }
      ]
    },
    {
      "cell_type": "code",
      "source": [
        "sns.boxplot(x=df[\"Adiponectin\"])"
      ],
      "metadata": {
        "colab": {
          "base_uri": "https://localhost:8080/",
          "height": 302
        },
        "id": "IWNrLx0U4GlK",
        "outputId": "e3ac275d-f13b-40b3-e7b0-996ecff285d6"
      },
      "execution_count": null,
      "outputs": [
        {
          "output_type": "execute_result",
          "data": {
            "text/plain": [
              "<matplotlib.axes._subplots.AxesSubplot at 0x7fb5ae0318e0>"
            ]
          },
          "metadata": {},
          "execution_count": 56
        },
        {
          "output_type": "display_data",
          "data": {
            "text/plain": [
              "<Figure size 432x288 with 1 Axes>"
            ],
            "image/png": "[encoded data removed]"
          },
          "metadata": {}
        }
      ]
    },
    {
      "cell_type": "code",
      "source": [
        "sns.boxplot(x=df[\"Resistin\"])"
      ],
      "metadata": {
        "colab": {
          "base_uri": "https://localhost:8080/",
          "height": 302
        },
        "id": "dEspGp2I4LnG",
        "outputId": "cde08644-3d9d-4d61-8bc1-0524208e2a2d"
      },
      "execution_count": null,
      "outputs": [
        {
          "output_type": "execute_result",
          "data": {
            "text/plain": [
              "<matplotlib.axes._subplots.AxesSubplot at 0x7fb5adfdebe0>"
            ]
          },
          "metadata": {},
          "execution_count": 57
        },
        {
          "output_type": "display_data",
          "data": {
            "text/plain": [
              "<Figure size 432x288 with 1 Axes>"
            ],
            "image/png": "[encoded data removed]"
          },
          "metadata": {}
        }
      ]
    },
    {
      "cell_type": "code",
      "source": [
        "sns.boxplot(x=df[\"MCP.1\"])"
      ],
      "metadata": {
        "colab": {
          "base_uri": "https://localhost:8080/",
          "height": 302
        },
        "id": "dWxKlVVk4RgZ",
        "outputId": "c525bfa0-54ee-4afe-ddf9-6cb5f901d492"
      },
      "execution_count": null,
      "outputs": [
        {
          "output_type": "execute_result",
          "data": {
            "text/plain": [
              "<matplotlib.axes._subplots.AxesSubplot at 0x7fb5adf35b20>"
            ]
          },
          "metadata": {},
          "execution_count": 58
        },
        {
          "output_type": "display_data",
          "data": {
            "text/plain": [
              "<Figure size 432x288 with 1 Axes>"
            ],
            "image/png": "[encoded data removed]"
          },
          "metadata": {}
        }
      ]
    },
    {
      "cell_type": "code",
      "source": [
        "import scipy.stats as stats\n",
        "z = np.abs(stats.zscore(df))\n",
        "data_clean = df[(z<3).all(axis = 1)] \n",
        "data_clean.shape"
      ],
      "metadata": {
        "colab": {
          "base_uri": "https://localhost:8080/"
        },
        "id": "OyHBj10I4XbQ",
        "outputId": "fdadb19c-55fd-43f8-b665-1d77726d4c70"
      },
      "execution_count": null,
      "outputs": [
        {
          "output_type": "execute_result",
          "data": {
            "text/plain": [
              "(102, 10)"
            ]
          },
          "metadata": {},
          "execution_count": 59
        }
      ]
    },
    {
      "cell_type": "code",
      "source": [
        "sns.heatmap(data_clean.corr())"
      ],
      "metadata": {
        "colab": {
          "base_uri": "https://localhost:8080/",
          "height": 352
        },
        "id": "aw88kxgiBOAi",
        "outputId": "b0f1299a-1118-47d5-fc67-ef83f820ca99"
      },
      "execution_count": null,
      "outputs": [
        {
          "output_type": "execute_result",
          "data": {
            "text/plain": [
              "<matplotlib.axes._subplots.AxesSubplot at 0x7fb5adefc430>"
            ]
          },
          "metadata": {},
          "execution_count": 60
        },
        {
          "output_type": "display_data",
          "data": {
            "text/plain": [
              "<Figure size 432x288 with 2 Axes>"
            ],
            "image/png": "[encoded data removed]"
          },
          "metadata": {}
        }
      ]
    },
    {
      "cell_type": "markdown",
      "source": [
        "#Correlation between Class and other attributes"
      ],
      "metadata": {
        "id": "BLUQchyZTqe7"
      }
    },
    {
      "cell_type": "code",
      "source": [
        "corr = data_clean[data_clean.columns[1:]].corr()['Classification'][:-1]\n",
        "plt.plot(corr)\n",
        "plt.xticks(rotation=90)\n",
        "plt.show()"
      ],
      "metadata": {
        "colab": {
          "base_uri": "https://localhost:8080/",
          "height": 323
        },
        "id": "wGV_c-ZVBatm",
        "outputId": "a830a69f-7667-4202-f2dd-044ed18c715d"
      },
      "execution_count": null,
      "outputs": [
        {
          "output_type": "display_data",
          "data": {
            "text/plain": [
              "<Figure size 432x288 with 1 Axes>"
            ],
            "image/png": "[encoded data removed]"
          },
          "metadata": {}
        }
      ]
    },
    {
      "cell_type": "markdown",
      "source": [
        "#Machine Learning"
      ],
      "metadata": {
        "id": "jHKT8ft8DquJ"
      }
    },
    {
      "cell_type": "code",
      "source": [
        "X = data_clean.drop('Classification', axis=1)\n",
        "y = data_clean['Classification']"
      ],
      "metadata": {
        "id": "YHMfsv80Dsj_"
      },
      "execution_count": null,
      "outputs": []
    },
    {
      "cell_type": "code",
      "source": [
        "from sklearn.model_selection import train_test_split\n",
        "from sklearn.metrics import accuracy_score\n",
        "X_train, X_test, y_train, y_test = train_test_split(X,y, test_size=0.1,random_state=0)"
      ],
      "metadata": {
        "id": "JHsJg_3DDyUx"
      },
      "execution_count": null,
      "outputs": []
    },
    {
      "cell_type": "markdown",
      "source": [
        "#Decision Tree"
      ],
      "metadata": {
        "id": "hH6w4tGlD9VV"
      }
    },
    {
      "cell_type": "code",
      "source": [
        "from sklearn.tree import DecisionTreeClassifier\n",
        "dtree = DecisionTreeClassifier(random_state = 0)\n",
        "dtree.fit(X_train, y_train)"
      ],
      "metadata": {
        "colab": {
          "base_uri": "https://localhost:8080/"
        },
        "id": "viezOZooD1zF",
        "outputId": "518ce9f5-05a9-446e-ceac-209b3c7755fa"
      },
      "execution_count": null,
      "outputs": [
        {
          "output_type": "execute_result",
          "data": {
            "text/plain": [
              "DecisionTreeClassifier(random_state=0)"
            ]
          },
          "metadata": {},
          "execution_count": 64
        }
      ]
    },
    {
      "cell_type": "code",
      "source": [
        "y_pred = dtree.predict(X_test)\n",
        "print(\"Accuracy Score :\", round(accuracy_score(y_test, y_pred)*100 ,2), \"%\")"
      ],
      "metadata": {
        "colab": {
          "base_uri": "https://localhost:8080/"
        },
        "id": "6ok8sOFtEA5f",
        "outputId": "eb6b9afe-96b6-418e-dc7d-cedb6fb76a70"
      },
      "execution_count": null,
      "outputs": [
        {
          "output_type": "stream",
          "name": "stdout",
          "text": [
            "Accuracy Score : 90.91 %\n"
          ]
        }
      ]
    },
    {
      "cell_type": "code",
      "source": [
        "from sklearn.metrics import accuracy_score, f1_score, precision_score, recall_score\n",
        "print('F-1 Score : ',(f1_score(y_test, y_pred)))\n",
        "print('Precision Score : ',(precision_score(y_test, y_pred)))\n",
        "print('Recall Score : ',(recall_score(y_test, y_pred)))"
      ],
      "metadata": {
        "colab": {
          "base_uri": "https://localhost:8080/"
        },
        "id": "EOpu3BtDFtjB",
        "outputId": "60f5eae3-c6a4-4ad1-9297-99ca10d8066d"
      },
      "execution_count": null,
      "outputs": [
        {
          "output_type": "stream",
          "name": "stdout",
          "text": [
            "F-1 Score :  0.8571428571428571\n",
            "Precision Score :  0.75\n",
            "Recall Score :  1.0\n"
          ]
        }
      ]
    },
    {
      "cell_type": "markdown",
      "source": [
        "#Random Forest"
      ],
      "metadata": {
        "id": "3-pSaAF9EC-i"
      }
    },
    {
      "cell_type": "code",
      "source": [
        "from sklearn.ensemble import RandomForestClassifier\n",
        "rfc = RandomForestClassifier(random_state = 0)\n",
        "rfc.fit(X_train, y_train)"
      ],
      "metadata": {
        "colab": {
          "base_uri": "https://localhost:8080/"
        },
        "id": "nS1tlr_EEFJF",
        "outputId": "82ebf395-3606-4753-bdd2-e432451243b2"
      },
      "execution_count": null,
      "outputs": [
        {
          "output_type": "execute_result",
          "data": {
            "text/plain": [
              "RandomForestClassifier(random_state=0)"
            ]
          },
          "metadata": {},
          "execution_count": 67
        }
      ]
    },
    {
      "cell_type": "code",
      "source": [
        "y_pred = rfc.predict(X_test)\n",
        "print(\"Accuracy Score :\", round(accuracy_score(y_test, y_pred)*100 ,2), \"%\")"
      ],
      "metadata": {
        "colab": {
          "base_uri": "https://localhost:8080/"
        },
        "id": "TESwmIFrEM4X",
        "outputId": "b7fbb922-9b21-4cd0-d7a7-ab87d4f24b36"
      },
      "execution_count": null,
      "outputs": [
        {
          "output_type": "stream",
          "name": "stdout",
          "text": [
            "Accuracy Score : 72.73 %\n"
          ]
        }
      ]
    },
    {
      "cell_type": "code",
      "source": [
        "from sklearn.metrics import accuracy_score, f1_score, precision_score, recall_score\n",
        "print('F-1 Score : ',(f1_score(y_test, y_pred)))\n",
        "print('Precision Score : ',(precision_score(y_test, y_pred)))\n",
        "print('Recall Score : ',(recall_score(y_test, y_pred)))"
      ],
      "metadata": {
        "id": "T0BPXjS5Fuzc",
        "outputId": "4bd1378c-eb54-4124-b17f-f36e6d070a8b",
        "colab": {
          "base_uri": "https://localhost:8080/"
        }
      },
      "execution_count": null,
      "outputs": [
        {
          "output_type": "stream",
          "name": "stdout",
          "text": [
            "F-1 Score :  0.5714285714285715\n",
            "Precision Score :  0.5\n",
            "Recall Score :  0.6666666666666666\n"
          ]
        }
      ]
    },
    {
      "cell_type": "markdown",
      "source": [
        "#Support Vector Machine"
      ],
      "metadata": {
        "id": "Sb7g2A2REW0W"
      }
    },
    {
      "cell_type": "code",
      "source": [
        "from sklearn import svm\n",
        "sv = svm.SVC(random_state = 0)\n",
        "sv.fit(X_train, y_train)"
      ],
      "metadata": {
        "colab": {
          "base_uri": "https://localhost:8080/"
        },
        "id": "GB0YfrQHEcmi",
        "outputId": "2b59c623-2236-42d4-ba64-a6ab5996fe41"
      },
      "execution_count": null,
      "outputs": [
        {
          "output_type": "execute_result",
          "data": {
            "text/plain": [
              "SVC(random_state=0)"
            ]
          },
          "metadata": {},
          "execution_count": 70
        }
      ]
    },
    {
      "cell_type": "code",
      "source": [
        "y_pred = sv.predict(X_test)\n",
        "print(\"Accuracy Score :\", round(accuracy_score(y_test, y_pred)*100 ,2), \"%\")"
      ],
      "metadata": {
        "colab": {
          "base_uri": "https://localhost:8080/"
        },
        "id": "AyjTC6wTEcrB",
        "outputId": "69a04327-4404-453e-867c-64dee88b6fdb"
      },
      "execution_count": null,
      "outputs": [
        {
          "output_type": "stream",
          "name": "stdout",
          "text": [
            "Accuracy Score : 45.45 %\n"
          ]
        }
      ]
    },
    {
      "cell_type": "code",
      "source": [
        "from sklearn.metrics import accuracy_score, f1_score, precision_score, recall_score\n",
        "print('F-1 Score : ',(f1_score(y_test, y_pred)))\n",
        "print('Precision Score : ',(precision_score(y_test, y_pred)))\n",
        "print('Recall Score : ',(recall_score(y_test, y_pred)))"
      ],
      "metadata": {
        "id": "j-TdsgJSFvaq",
        "outputId": "70f07993-e79e-4c86-a15a-bac48b322c93",
        "colab": {
          "base_uri": "https://localhost:8080/"
        }
      },
      "execution_count": null,
      "outputs": [
        {
          "output_type": "stream",
          "name": "stdout",
          "text": [
            "F-1 Score :  0.25\n",
            "Precision Score :  0.2\n",
            "Recall Score :  0.3333333333333333\n"
          ]
        }
      ]
    },
    {
      "cell_type": "markdown",
      "source": [
        "#Logistic Regression"
      ],
      "metadata": {
        "id": "hfj7BpeIEyfC"
      }
    },
    {
      "cell_type": "code",
      "source": [
        "from sklearn.linear_model import LogisticRegression\n",
        "lr = LogisticRegression(random_state = 0)\n",
        "lr.fit(X_train, y_train)"
      ],
      "metadata": {
        "colab": {
          "base_uri": "https://localhost:8080/"
        },
        "id": "V_D1X6QzE5HT",
        "outputId": "1ee2795b-e5dd-42b1-dc86-ac2980da152d"
      },
      "execution_count": null,
      "outputs": [
        {
          "output_type": "stream",
          "name": "stderr",
          "text": [
            "/usr/local/lib/python3.8/dist-packages/sklearn/linear_model/_logistic.py:814: ConvergenceWarning: lbfgs failed to converge (status=1):\n",
            "STOP: TOTAL NO. of ITERATIONS REACHED LIMIT.\n",
            "\n",
            "Increase the number of iterations (max_iter) or scale the data as shown in:\n",
            "    https://scikit-learn.org/stable/modules/preprocessing.html\n",
            "Please also refer to the documentation for alternative solver options:\n",
            "    https://scikit-learn.org/stable/modules/linear_model.html#logistic-regression\n",
            "  n_iter_i = _check_optimize_result(\n"
          ]
        },
        {
          "output_type": "execute_result",
          "data": {
            "text/plain": [
              "LogisticRegression(random_state=0)"
            ]
          },
          "metadata": {},
          "execution_count": 73
        }
      ]
    },
    {
      "cell_type": "code",
      "source": [
        "y_pred = lr.predict(X_test)\n",
        "print(\"Accuracy Score :\", round(accuracy_score(y_test, y_pred)*100 ,2), \"%\")"
      ],
      "metadata": {
        "colab": {
          "base_uri": "https://localhost:8080/"
        },
        "id": "fkMs34myFCI_",
        "outputId": "15b90068-aa2d-437e-e1d5-45e187fd4ab3"
      },
      "execution_count": null,
      "outputs": [
        {
          "output_type": "stream",
          "name": "stdout",
          "text": [
            "Accuracy Score : 81.82 %\n"
          ]
        }
      ]
    },
    {
      "cell_type": "code",
      "source": [
        "from sklearn.metrics import accuracy_score, f1_score, precision_score, recall_score\n",
        "print('F-1 Score : ',(f1_score(y_test, y_pred)))\n",
        "print('Precision Score : ',(precision_score(y_test, y_pred)))\n",
        "print('Recall Score : ',(recall_score(y_test, y_pred)))"
      ],
      "metadata": {
        "id": "ve22Rq-kFwUY",
        "outputId": "d3b4c35e-177c-4e42-8757-1c92b66dfed9",
        "colab": {
          "base_uri": "https://localhost:8080/"
        }
      },
      "execution_count": null,
      "outputs": [
        {
          "output_type": "stream",
          "name": "stdout",
          "text": [
            "F-1 Score :  0.7499999999999999\n",
            "Precision Score :  0.6\n",
            "Recall Score :  1.0\n"
          ]
        }
      ]
    }
  ]
}